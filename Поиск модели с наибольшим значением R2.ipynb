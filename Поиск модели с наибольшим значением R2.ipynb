{
 "cells": [
  {
   "cell_type": "code",
   "execution_count": null,
   "metadata": {
    "tags": [
     "f4eaa450-4b57-4b82-ab29-f851693d1019"
    ]
   },
   "outputs": [],
   "source": [
    "# Не удаляйте эту ячейку!"
   ]
  },
  {
   "cell_type": "code",
   "execution_count": 1,
   "metadata": {},
   "outputs": [],
   "source": [
    "import pandas as pd\n",
    "from sklearn.model_selection import train_test_split\n",
    "from sklearn.linear_model import LinearRegression\n",
    "from sklearn.tree import DecisionTreeRegressor\n",
    "from sklearn.ensemble import RandomForestRegressor\n",
    "\n",
    "data = pd.read_csv('/datasets/flights_preprocessed.csv')\n",
    "\n",
    "target = data['Arrival Delay']\n",
    "features = data.drop(['Arrival Delay'] , axis=1)\n",
    "features_train, features_valid, target_train, target_valid = train_test_split(\n",
    "    features, target, test_size=0.25, random_state=12345)"
   ]
  },
  {
   "cell_type": "code",
   "execution_count": 2,
   "metadata": {},
   "outputs": [
    {
     "name": "stdout",
     "output_type": "stream",
     "text": [
      "0.09710497146204988\n"
     ]
    }
   ],
   "source": [
    "model = LinearRegression()\n",
    "model.fit(features_train, target_train)\n",
    "print(model.score(features_valid, target_valid)) "
   ]
  },
  {
   "cell_type": "code",
   "execution_count": 6,
   "metadata": {},
   "outputs": [
    {
     "name": "stdout",
     "output_type": "stream",
     "text": [
      "0.037285907526148354\n",
      "0.06819642209621124\n",
      "0.08784043439422196\n",
      "0.10410539417320941\n",
      "0.1170148926305088\n",
      "0.12812270304109197\n",
      "0.14023988572891255\n",
      "0.1509905046331984\n",
      "0.1561784744742989\n",
      "0.15937461353477067\n",
      "0.16165140416942136\n",
      "0.16050981198241898\n",
      "0.15524848318843387\n",
      "0.14612375630805674\n",
      "0.1419794076464067\n"
     ]
    }
   ],
   "source": [
    "for depth in range(1, 16, 1):\n",
    "    model = RandomForestRegressor(n_estimators=20, max_depth=depth, random_state=12345)\n",
    "    model.fit(features_train, target_train)\n",
    "    print(model.score(features_valid, target_valid))"
   ]
  },
  {
   "cell_type": "code",
   "execution_count": 14,
   "metadata": {},
   "outputs": [
    {
     "name": "stdout",
     "output_type": "stream",
     "text": [
      "0.43399599734071415\n",
      "0.16455159363220306\n"
     ]
    }
   ],
   "source": [
    "model = RandomForestRegressor(n_estimators=100, \n",
    "    max_depth=12, random_state=12345)\n",
    "model.fit(features_train, target_train)\n",
    "print(model.score(features_train, target_train))\n",
    "print(model.score(features_valid, target_valid)) "
   ]
  },
  {
   "cell_type": "code",
   "execution_count": 15,
   "metadata": {},
   "outputs": [
    {
     "name": "stdout",
     "output_type": "stream",
     "text": [
      "CPU times: user 27.1 s, sys: 388 ms, total: 27.4 s\n",
      "Wall time: 27.4 s\n"
     ]
    },
    {
     "data": {
      "text/plain": [
       "RandomForestRegressor(random_state=12345)"
      ]
     },
     "execution_count": 15,
     "metadata": {},
     "output_type": "execute_result"
    }
   ],
   "source": [
    "%%time\n",
    "\n",
    "model = RandomForestRegressor(n_estimators=100, random_state=12345)\n",
    "model.fit(features_train, target_train) "
   ]
  }
 ],
 "metadata": {
  "ExecuteTimeLog": [
   {
    "duration": 1597,
    "start_time": "2021-06-24T08:19:30.427Z"
   },
   {
    "duration": 2142,
    "start_time": "2022-11-24T10:01:52.758Z"
   },
   {
    "duration": 150,
    "start_time": "2022-11-24T10:01:54.902Z"
   },
   {
    "duration": 28221,
    "start_time": "2022-11-24T10:03:01.825Z"
   },
   {
    "duration": 29631,
    "start_time": "2022-11-24T10:05:30.645Z"
   },
   {
    "duration": 29795,
    "start_time": "2022-11-24T10:09:40.288Z"
   },
   {
    "duration": 7229,
    "start_time": "2022-11-24T10:13:18.422Z"
   },
   {
    "duration": 25147,
    "start_time": "2022-11-24T10:13:55.575Z"
   },
   {
    "duration": 17064,
    "start_time": "2022-11-24T10:14:32.973Z"
   },
   {
    "duration": 17689,
    "start_time": "2022-11-24T10:15:01.320Z"
   },
   {
    "duration": 25597,
    "start_time": "2022-11-24T10:15:59.302Z"
   },
   {
    "duration": 17347,
    "start_time": "2022-11-24T10:17:13.127Z"
   },
   {
    "duration": 16726,
    "start_time": "2022-11-24T10:17:50.763Z"
   },
   {
    "duration": 17485,
    "start_time": "2022-11-24T10:19:13.837Z"
   },
   {
    "duration": 27454,
    "start_time": "2022-11-24T10:19:35.448Z"
   }
  ],
  "kernelspec": {
   "display_name": "Python 3 (ipykernel)",
   "language": "python",
   "name": "python3"
  },
  "language_info": {
   "codemirror_mode": {
    "name": "ipython",
    "version": 3
   },
   "file_extension": ".py",
   "mimetype": "text/x-python",
   "name": "python",
   "nbconvert_exporter": "python",
   "pygments_lexer": "ipython3",
   "version": "3.9.5"
  },
  "toc": {
   "base_numbering": 1,
   "nav_menu": {},
   "number_sections": true,
   "sideBar": true,
   "skip_h1_title": true,
   "title_cell": "Table of Contents",
   "title_sidebar": "Contents",
   "toc_cell": false,
   "toc_position": {},
   "toc_section_display": true,
   "toc_window_display": false
  }
 },
 "nbformat": 4,
 "nbformat_minor": 2
}
